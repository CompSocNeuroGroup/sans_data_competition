{
 "cells": [
  {
   "cell_type": "markdown",
   "metadata": {},
   "source": [
    "# Accessing Data\n",
    "\n",
    "For this data competition, we will be using the Friday Night Lights dataset from:\n",
    "\n",
    "[Chang, L. J., Jolly, E., Cheong, J. H., Rapuano, K. M., Greenstein, N., Chen, P. H. A., & Manning, J. R. (2021). Endogenous variation in ventromedial prefrontal cortex state dynamics during naturalistic viewing reflects affective experience. *Science Advances, 7(17), eabf7129*.](https://www.science.org/doi/10.1126/sciadv.abf7129)\n",
    "\n",
    "In this dataset, participants (n=35) watched the pilot episode of the NBC television show Friday Night Lights while undergoing fMRI. We are sharing the raw data in the BIDS format. We are also sharing data that has been preprocessed using fMRIPrep version 20.2.1. See ```derivatives/code/fmriprep.sh``` for the script used to run preprocessing. We have also performed denoising on the preprocessed data by running a univariate GLM, which included the following regressors:\n",
    "\n",
    "- Intercept, Linear & Quadratic Trends (3)\n",
    "- Expanded Realignment Parameters (24). Derivatives, quadratics, quadratic derivatives\n",
    "- Spikes based on global outliers greater than 3 SD and also based on average frame differencing\n",
    "- CSF regressor (1)\n",
    "\n",
    "See ```derivatives/code/Denoise_Preprocessed_Data.ipynb``` file for full details of the denoising model. We have included denoised data that is unsmoothed and also has been smoothed with a 6mm FWHM Gaussian kernel. We have included nifti and hdf5 versions of the data. Nifti files can be loaded using any software. HDF5 files are much faster to load if you are using our [nltools](https://nltools.org/) toolbox for your data analyses. Note that subject ```sub-sid000496``` had bad normalization using this preprocessing pipeline, so we have not included this participant in the denoised data. \n",
    "\n",
    "We are also sharing additional data from this paper, which may be used in projects:\n",
    "\n",
    "- Study 1 (n=13) fMRI Data viewing episodes 1 & 2 - Available on [OpenNeuro](https://openneuro.org/datasets/ds003524).\n",
    "\n",
    "- Study 3 (n=20) Face Expression Data - Available on [OSF](https://osf.io/f9gyd/). We are only sharing extracted Action Unit Values. We do not have permission to share raw video data.\n",
    "\n",
    "- Study 4 (n=192) Emotion Ratings - Available on [OSF](https://osf.io/f9gyd/). Rating data was collected on Amazon Mechanical Turk using a custom Flask [web application](https://github.com/cosanlab/moth_app).\n",
    "\n",
    "- Code from the original paper is available on [Github](https://github.com/cosanlab/vmPFC_dynamics)\n",
    "\n",
    "# Downloading Data\n",
    "\n",
    "All of the data is being hosted by [OpenNeuro](https://openneuro.org/datasets/ds003521). The entire dataset is about 16gb and can be downloaded directly from the website and also using the AWS command line interface. See the OpenNeuro [instructions](https://openneuro.org/datasets/ds003521/download) for downloading. If you have limited storage space, we recommend using Datalad to only download the files you want to work with. We have included a brief overview of working with Datalad from the command line and within Python below.\n"
   ]
  },
  {
   "cell_type": "markdown",
   "metadata": {},
   "source": [
    "## DataLad\n",
    "\n",
    "We encourage participants to download the data using [DataLad](https://www.datalad.org/), which is an open source version control system for data built on top of [git-annex](https://git-annex.branchable.com/). Think of it like git for data. It provides a handy command line interface for downloading data, tracking changes, and sharing it with others.\n",
    "\n",
    "While DataLad offers a number of useful features for working with datasets, there are three in particular that we think make it worth the effort to install for this competition.\n",
    "\n",
    "1) Cloning a DataLad Repository can be completed with a single line of code `datalad install <repository>` and provides the full directory structure in the form of symbolic links. This allows you to explore all of the files in the dataset, without having to download the entire dataset at once.\n",
    "\n",
    "2) Specific files can be easily downloaded using `datalad get <filename>`, and files can be removed from your computer at any time using `datalad drop <filename>`. As the dataset is relatively large, this will allow you to only work with the data that you need and you can drop the rest when you are done with it.\n",
    "\n",
    "3) All of the DataLad commands can be run within Python using the datalad [python api](http://docs.datalad.org/en/latest/modref.html).\n",
    "\n",
    "We will only be covering a few basic DataLad functions to get and drop data. We encourage the interested reader to read the very comprehensive DataLad [User Handbook](http://handbook.datalad.org/en/latest/) for more details and troubleshooting.\n",
    "\n",
    "### Installing Datalad\n",
    "\n",
    "DataLad can be easily installed using [pip](https://pip.pypa.io/en/stable/).\n",
    "\n",
    "`pip install datalad`\n",
    "\n",
    "Unfortunately, it currently requires manually installing the [git-annex](https://git-annex.branchable.com/) dependency, which is not automatically installed using pip.\n",
    "\n",
    "If you are using OSX, we recommend installing git-annex using [homebrew](https://brew.sh/) package manager.\n",
    "\n",
    "`brew install git-annex`\n",
    "\n",
    "If you are on Debian/Ubuntu we recommend enabling the [NeuroDebian](http://neuro.debian.net/) repository and installing with apt-get.\n",
    "\n",
    "`sudo apt-get install datalad`\n",
    "\n",
    "For more installation options, we recommend reading the DataLad [installation instructions](https://git-annex.branchable.com/).\n"
   ]
  },
  {
   "cell_type": "code",
   "execution_count": 1,
   "metadata": {
    "ExecuteTime": {
     "end_time": "2020-09-14T05:21:46.307139Z",
     "start_time": "2020-09-14T05:21:43.188847Z"
    }
   },
   "outputs": [
    {
     "name": "stdout",
     "output_type": "stream",
     "text": [
      "Requirement already satisfied: datalad in /Users/lukechang/opt/anaconda3/lib/python3.8/site-packages (0.14.7)\n",
      "Requirement already satisfied: fasteners>=0.14 in /Users/lukechang/opt/anaconda3/lib/python3.8/site-packages (from datalad) (0.16.3)\n",
      "Requirement already satisfied: PyGithub in /Users/lukechang/opt/anaconda3/lib/python3.8/site-packages (from datalad) (1.55)\n",
      "Requirement already satisfied: distro in /Users/lukechang/opt/anaconda3/lib/python3.8/site-packages (from datalad) (1.6.0)\n",
      "Requirement already satisfied: simplejson in /Users/lukechang/opt/anaconda3/lib/python3.8/site-packages (from datalad) (3.17.3)\n",
      "Requirement already satisfied: boto in /Users/lukechang/opt/anaconda3/lib/python3.8/site-packages (from datalad) (2.49.0)\n",
      "Requirement already satisfied: appdirs in /Users/lukechang/opt/anaconda3/lib/python3.8/site-packages (from datalad) (1.4.4)\n",
      "Requirement already satisfied: wrapt in /Users/lukechang/opt/anaconda3/lib/python3.8/site-packages (from datalad) (1.12.1)\n",
      "Requirement already satisfied: requests>=1.2 in /Users/lukechang/opt/anaconda3/lib/python3.8/site-packages (from datalad) (2.26.0)\n",
      "Requirement already satisfied: humanize in /Users/lukechang/opt/anaconda3/lib/python3.8/site-packages (from datalad) (3.11.0)\n",
      "Requirement already satisfied: keyring>=8.0 in /Users/lukechang/opt/anaconda3/lib/python3.8/site-packages (from datalad) (23.4.0)\n",
      "Requirement already satisfied: tqdm in /Users/lukechang/opt/anaconda3/lib/python3.8/site-packages (from datalad) (4.62.3)\n",
      "Requirement already satisfied: keyrings.alt in /Users/lukechang/opt/anaconda3/lib/python3.8/site-packages (from datalad) (4.1.0)\n",
      "Requirement already satisfied: patool>=1.7 in /Users/lukechang/opt/anaconda3/lib/python3.8/site-packages (from datalad) (1.12)\n",
      "Requirement already satisfied: annexremote in /Users/lukechang/opt/anaconda3/lib/python3.8/site-packages (from datalad) (1.5.0)\n",
      "Requirement already satisfied: iso8601 in /Users/lukechang/opt/anaconda3/lib/python3.8/site-packages (from datalad) (0.1.16)\n",
      "Requirement already satisfied: whoosh in /Users/lukechang/opt/anaconda3/lib/python3.8/site-packages (from datalad) (2.7.4)\n",
      "Requirement already satisfied: chardet>=3.0.4 in /Users/lukechang/opt/anaconda3/lib/python3.8/site-packages (from datalad) (4.0.0)\n",
      "Requirement already satisfied: python-gitlab in /Users/lukechang/opt/anaconda3/lib/python3.8/site-packages (from datalad) (2.10.0)\n",
      "Requirement already satisfied: msgpack in /Users/lukechang/opt/anaconda3/lib/python3.8/site-packages (from datalad) (1.0.2)\n",
      "Requirement already satisfied: jsmin in /Users/lukechang/opt/anaconda3/lib/python3.8/site-packages (from datalad) (2.2.2)\n",
      "Requirement already satisfied: six in /Users/lukechang/opt/anaconda3/lib/python3.8/site-packages (from fasteners>=0.14->datalad) (1.16.0)\n",
      "Requirement already satisfied: importlib-metadata>=3.6 in /Users/lukechang/opt/anaconda3/lib/python3.8/site-packages (from keyring>=8.0->datalad) (4.8.2)\n",
      "Requirement already satisfied: zipp>=0.5 in /Users/lukechang/opt/anaconda3/lib/python3.8/site-packages (from importlib-metadata>=3.6->keyring>=8.0->datalad) (3.6.0)\n",
      "Requirement already satisfied: certifi>=2017.4.17 in /Users/lukechang/opt/anaconda3/lib/python3.8/site-packages (from requests>=1.2->datalad) (2021.10.8)\n",
      "Requirement already satisfied: urllib3<1.27,>=1.21.1 in /Users/lukechang/opt/anaconda3/lib/python3.8/site-packages (from requests>=1.2->datalad) (1.26.7)\n",
      "Requirement already satisfied: charset-normalizer~=2.0.0 in /Users/lukechang/opt/anaconda3/lib/python3.8/site-packages (from requests>=1.2->datalad) (2.0.4)\n",
      "Requirement already satisfied: idna<4,>=2.5 in /Users/lukechang/opt/anaconda3/lib/python3.8/site-packages (from requests>=1.2->datalad) (3.3)\n",
      "Requirement already satisfied: future in /Users/lukechang/opt/anaconda3/lib/python3.8/site-packages (from annexremote->datalad) (0.18.2)\n",
      "Requirement already satisfied: setuptools in /Users/lukechang/opt/anaconda3/lib/python3.8/site-packages (from humanize->datalad) (58.0.4)\n",
      "Requirement already satisfied: pyjwt>=2.0 in /Users/lukechang/opt/anaconda3/lib/python3.8/site-packages (from PyGithub->datalad) (2.1.0)\n",
      "Requirement already satisfied: pynacl>=1.4.0 in /Users/lukechang/opt/anaconda3/lib/python3.8/site-packages (from PyGithub->datalad) (1.4.0)\n",
      "Requirement already satisfied: deprecated in /Users/lukechang/opt/anaconda3/lib/python3.8/site-packages (from PyGithub->datalad) (1.2.12)\n",
      "Requirement already satisfied: cffi>=1.4.1 in /Users/lukechang/opt/anaconda3/lib/python3.8/site-packages (from pynacl>=1.4.0->PyGithub->datalad) (1.14.6)\n",
      "Requirement already satisfied: pycparser in /Users/lukechang/opt/anaconda3/lib/python3.8/site-packages (from cffi>=1.4.1->pynacl>=1.4.0->PyGithub->datalad) (2.21)\n",
      "Requirement already satisfied: requests-toolbelt>=0.9.1 in /Users/lukechang/opt/anaconda3/lib/python3.8/site-packages (from python-gitlab->datalad) (0.9.1)\n"
     ]
    }
   ],
   "source": [
    "!pip install datalad"
   ]
  },
  {
   "cell_type": "markdown",
   "metadata": {},
   "source": [
    "### Download Data with DataLad\n",
    "\n",
    "The FNL dataset can be accessed at the following location https://openneuro.org/datasets/ds003521. To download the dataset run `datalad install https://github.com/OpenNeuroDatasets/ds003521.git` in a terminal in the location where you would like to install the dataset. Don't forget to change the directory to a folder on your local computer. The full dataset is approximately 16gb.\n",
    "\n",
    "You can run this from the notebook using the `!` cell magic."
   ]
  },
  {
   "cell_type": "code",
   "execution_count": 16,
   "metadata": {
    "ExecuteTime": {
     "end_time": "2020-09-14T02:38:25.886101Z",
     "start_time": "2020-09-14T02:38:24.983307Z"
    }
   },
   "outputs": [
    {
     "name": "stdout",
     "output_type": "stream",
     "text": [
      "/Users/lukechang/Downloads/FridayNightLights\n"
     ]
    }
   ],
   "source": [
    "import os\n",
    "\n",
    "download_path = '/Users/lukechang/Downloads/FridayNightLights'\n",
    "\n",
    "if not os.path.exists(download_path):\n",
    "    os.makedirs(download_path)\n",
    "\n",
    "%cd {download_path}\n",
    "\n",
    "!datalad install https://github.com/OpenNeuroDatasets/ds003521.git\n",
    "\n"
   ]
  },
  {
   "cell_type": "markdown",
   "metadata": {},
   "source": [
    "## Datalad Basics\n",
    "\n",
    "You might be surprised to find that after cloning the dataset that it barely takes up any space using `du -sh`. This is because cloning only downloads the metadata of the dataset to see what files are included.\n",
    "\n",
    "You can check to see how big the entire dataset would be if you downloaded everything using `datalad status`."
   ]
  },
  {
   "cell_type": "code",
   "execution_count": 17,
   "metadata": {
    "ExecuteTime": {
     "end_time": "2020-09-14T05:24:09.097136Z",
     "start_time": "2020-09-14T05:22:07.262146Z"
    }
   },
   "outputs": [
    {
     "name": "stdout",
     "output_type": "stream",
     "text": [
      "/Users/lukechang/Downloads/FridayNightLights/ds003521\n",
      "untracked: ds003521 (directory)\n",
      "70 annex'd files (9.7 GB recorded total size)\n"
     ]
    }
   ],
   "source": [
    "%cd ~/Downloads/FridayNightLights/ds003521\n",
    "\n",
    "!datalad status --annex"
   ]
  },
  {
   "cell_type": "markdown",
   "metadata": {},
   "source": [
    "### Getting Data\n",
    "One of the really nice features of datalad is that you can see all of the data without actually storing it on your computer. When you want a specific file you use `datalad get <filename>` to download that specific file. Importantly, you do not need to download all of the data at once, only when you need it.\n",
    "\n",
    "Now that we have cloned the repository we can grab individual files. For example, suppose we wanted to grab the first subject's confound regressors generated by fmriprep."
   ]
  },
  {
   "cell_type": "code",
   "execution_count": 8,
   "metadata": {
    "ExecuteTime": {
     "end_time": "2020-09-14T05:24:09.907088Z",
     "start_time": "2020-09-14T05:24:09.099776Z"
    }
   },
   "outputs": [],
   "source": [
    "!datalad get participants.tsv"
   ]
  },
  {
   "cell_type": "markdown",
   "metadata": {},
   "source": [
    "Now we can check and see how much of the total dataset we have downloaded using `datalad status`"
   ]
  },
  {
   "cell_type": "code",
   "execution_count": 9,
   "metadata": {
    "ExecuteTime": {
     "end_time": "2020-09-14T02:54:41.265494Z",
     "start_time": "2020-09-14T02:52:33.390109Z"
    }
   },
   "outputs": [
    {
     "name": "stdout",
     "output_type": "stream",
     "text": [
      "untracked: ds003521 (directory)\n",
      "70 annex'd files (0.0 B/9.7 GB present/total size)\n"
     ]
    }
   ],
   "source": [
    "!datalad status --annex all"
   ]
  },
  {
   "cell_type": "markdown",
   "metadata": {},
   "source": [
    "If you would like to download all of the files you can use `datalad get .`. Depending on the size of the dataset and the speed of your internet connection, this might take awhile. One really nice thing about datalad is that if your connection is interrupted you can simply run `datalad get .` again, and it will resume where it left off.\n",
    "\n",
    "You can also install the dataset and download all of the files with a single command `datalad install -g https://github.com/OpenNeuroDatasets/ds003521.git`. You may want to do this if you have a lot of storage available and a fast internet connection. For most people, we recommend only downloading the files you need for your project."
   ]
  },
  {
   "cell_type": "markdown",
   "metadata": {},
   "source": [
    "### Dropping Data\n",
    "Most people do not have unlimited space on their hard drives and are constantly looking for ways to free up space when they are no longer actively working with files. Any file in a dataset can be removed using `datalad drop`. Importantly, this does not delete the file, but rather removes it from your computer. You will still be able to see file metadata after it has been dropped in case you want to download it again in the future.\n",
    "\n",
    "As an example, let's drop the Localizer participants .tsv file."
   ]
  },
  {
   "cell_type": "code",
   "execution_count": 10,
   "metadata": {
    "ExecuteTime": {
     "end_time": "2020-09-14T03:04:21.270722Z",
     "start_time": "2020-09-14T03:02:13.301872Z"
    }
   },
   "outputs": [
    {
     "name": "stdout",
     "output_type": "stream",
     "text": []
    }
   ],
   "source": [
    "!datalad drop participants.tsv"
   ]
  },
  {
   "cell_type": "markdown",
   "metadata": {},
   "source": [
    "## Datalad has a Python API\n",
    "One particularly nice aspect of datalad is that it has a Python API, which means that anything you would like to do with datalad in the commandline, can also be run in Python. See the details of the datalad [Python API](http://docs.datalad.org/en/latest/modref.html).\n",
    "\n",
    "For example, suppose you would like to clone a data repository, such as the Localizer dataset. You can run `dl.clone(source=url, path=location)`. Make sure you set `localizer_path` to the location where you would like the Localizer repository installed."
   ]
  },
  {
   "cell_type": "code",
   "execution_count": 18,
   "metadata": {
    "ExecuteTime": {
     "end_time": "2020-09-14T16:55:36.763624Z",
     "start_time": "2020-09-14T16:55:35.141514Z"
    }
   },
   "outputs": [
    {
     "ename": "RuntimeError",
     "evalue": "This event loop is already running",
     "output_type": "error",
     "traceback": [
      "\u001b[0;31m---------------------------------------------------------------------------\u001b[0m",
      "\u001b[0;31mRuntimeError\u001b[0m                              Traceback (most recent call last)",
      "\u001b[0;32m/var/folders/lt/52_7v4r10qg8m6_2fjzqh1z80000gn/T/ipykernel_78597/482638609.py\u001b[0m in \u001b[0;36m<module>\u001b[0;34m\u001b[0m\n\u001b[1;32m      1\u001b[0m \u001b[0;32mimport\u001b[0m \u001b[0mos\u001b[0m\u001b[0;34m\u001b[0m\u001b[0;34m\u001b[0m\u001b[0m\n\u001b[1;32m      2\u001b[0m \u001b[0;32mimport\u001b[0m \u001b[0mglob\u001b[0m\u001b[0;34m\u001b[0m\u001b[0;34m\u001b[0m\u001b[0m\n\u001b[0;32m----> 3\u001b[0;31m \u001b[0;32mimport\u001b[0m \u001b[0mdatalad\u001b[0m\u001b[0;34m.\u001b[0m\u001b[0mapi\u001b[0m \u001b[0;32mas\u001b[0m \u001b[0mdl\u001b[0m\u001b[0;34m\u001b[0m\u001b[0;34m\u001b[0m\u001b[0m\n\u001b[0m\u001b[1;32m      4\u001b[0m \u001b[0;32mimport\u001b[0m \u001b[0mpandas\u001b[0m \u001b[0;32mas\u001b[0m \u001b[0mpd\u001b[0m\u001b[0;34m\u001b[0m\u001b[0;34m\u001b[0m\u001b[0m\n\u001b[1;32m      5\u001b[0m \u001b[0;34m\u001b[0m\u001b[0m\n",
      "\u001b[0;32m~/opt/anaconda3/lib/python3.8/site-packages/datalad/__init__.py\u001b[0m in \u001b[0;36m<module>\u001b[0;34m\u001b[0m\n\u001b[1;32m     46\u001b[0m \u001b[0;34m\u001b[0m\u001b[0m\n\u001b[1;32m     47\u001b[0m \u001b[0;32mfrom\u001b[0m \u001b[0;34m.\u001b[0m\u001b[0mconfig\u001b[0m \u001b[0;32mimport\u001b[0m \u001b[0mConfigManager\u001b[0m\u001b[0;34m\u001b[0m\u001b[0;34m\u001b[0m\u001b[0m\n\u001b[0;32m---> 48\u001b[0;31m \u001b[0mcfg\u001b[0m \u001b[0;34m=\u001b[0m \u001b[0mConfigManager\u001b[0m\u001b[0;34m(\u001b[0m\u001b[0;34m)\u001b[0m\u001b[0;34m\u001b[0m\u001b[0;34m\u001b[0m\u001b[0m\n\u001b[0m\u001b[1;32m     49\u001b[0m \u001b[0;34m\u001b[0m\u001b[0m\n\u001b[1;32m     50\u001b[0m \u001b[0;32mfrom\u001b[0m \u001b[0;34m.\u001b[0m\u001b[0mlog\u001b[0m \u001b[0;32mimport\u001b[0m \u001b[0mlgr\u001b[0m\u001b[0;34m\u001b[0m\u001b[0;34m\u001b[0m\u001b[0m\n",
      "\u001b[0;32m~/opt/anaconda3/lib/python3.8/site-packages/datalad/config.py\u001b[0m in \u001b[0;36m__init__\u001b[0;34m(self, dataset, overrides, source)\u001b[0m\n\u001b[1;32m    344\u001b[0m             \u001b[0mself\u001b[0m\u001b[0;34m.\u001b[0m\u001b[0m_runner\u001b[0m \u001b[0;34m=\u001b[0m \u001b[0mGitWitlessRunner\u001b[0m\u001b[0;34m(\u001b[0m\u001b[0;34m**\u001b[0m\u001b[0mrun_kwargs\u001b[0m\u001b[0;34m)\u001b[0m\u001b[0;34m\u001b[0m\u001b[0;34m\u001b[0m\u001b[0m\n\u001b[1;32m    345\u001b[0m \u001b[0;34m\u001b[0m\u001b[0m\n\u001b[0;32m--> 346\u001b[0;31m         \u001b[0mself\u001b[0m\u001b[0;34m.\u001b[0m\u001b[0mreload\u001b[0m\u001b[0;34m(\u001b[0m\u001b[0mforce\u001b[0m\u001b[0;34m=\u001b[0m\u001b[0;32mTrue\u001b[0m\u001b[0;34m)\u001b[0m\u001b[0;34m\u001b[0m\u001b[0;34m\u001b[0m\u001b[0m\n\u001b[0m\u001b[1;32m    347\u001b[0m \u001b[0;34m\u001b[0m\u001b[0m\n\u001b[1;32m    348\u001b[0m         \u001b[0;32mif\u001b[0m \u001b[0;32mnot\u001b[0m \u001b[0mConfigManager\u001b[0m\u001b[0;34m.\u001b[0m\u001b[0m_checked_git_identity\u001b[0m\u001b[0;34m:\u001b[0m\u001b[0;34m\u001b[0m\u001b[0;34m\u001b[0m\u001b[0m\n",
      "\u001b[0;32m~/opt/anaconda3/lib/python3.8/site-packages/datalad/config.py\u001b[0m in \u001b[0;36mreload\u001b[0;34m(self, force)\u001b[0m\n\u001b[1;32m    397\u001b[0m         \u001b[0;32mwhile\u001b[0m \u001b[0mto_run\u001b[0m\u001b[0;34m:\u001b[0m\u001b[0;34m\u001b[0m\u001b[0;34m\u001b[0m\u001b[0m\n\u001b[1;32m    398\u001b[0m             \u001b[0mstore_id\u001b[0m\u001b[0;34m,\u001b[0m \u001b[0mrunargs\u001b[0m \u001b[0;34m=\u001b[0m \u001b[0mto_run\u001b[0m\u001b[0;34m.\u001b[0m\u001b[0mpopitem\u001b[0m\u001b[0;34m(\u001b[0m\u001b[0;34m)\u001b[0m\u001b[0;34m\u001b[0m\u001b[0;34m\u001b[0m\u001b[0m\n\u001b[0;32m--> 399\u001b[0;31m             \u001b[0mself\u001b[0m\u001b[0;34m.\u001b[0m\u001b[0m_stores\u001b[0m\u001b[0;34m[\u001b[0m\u001b[0mstore_id\u001b[0m\u001b[0;34m]\u001b[0m \u001b[0;34m=\u001b[0m \u001b[0mself\u001b[0m\u001b[0;34m.\u001b[0m\u001b[0m_reload\u001b[0m\u001b[0;34m(\u001b[0m\u001b[0mrunargs\u001b[0m\u001b[0;34m)\u001b[0m\u001b[0;34m\u001b[0m\u001b[0;34m\u001b[0m\u001b[0m\n\u001b[0m\u001b[1;32m    400\u001b[0m \u001b[0;34m\u001b[0m\u001b[0m\n\u001b[1;32m    401\u001b[0m         \u001b[0;31m# always update the merged representation, even if we did not reload\u001b[0m\u001b[0;34m\u001b[0m\u001b[0;34m\u001b[0m\u001b[0;34m\u001b[0m\u001b[0m\n",
      "\u001b[0;32m~/opt/anaconda3/lib/python3.8/site-packages/datalad/config.py\u001b[0m in \u001b[0;36m_reload\u001b[0;34m(self, run_args)\u001b[0m\n\u001b[1;32m    425\u001b[0m     \u001b[0;32mdef\u001b[0m \u001b[0m_reload\u001b[0m\u001b[0;34m(\u001b[0m\u001b[0mself\u001b[0m\u001b[0;34m,\u001b[0m \u001b[0mrun_args\u001b[0m\u001b[0;34m)\u001b[0m\u001b[0;34m:\u001b[0m\u001b[0;34m\u001b[0m\u001b[0;34m\u001b[0m\u001b[0m\n\u001b[1;32m    426\u001b[0m         \u001b[0;31m# query git-config\u001b[0m\u001b[0;34m\u001b[0m\u001b[0;34m\u001b[0m\u001b[0;34m\u001b[0m\u001b[0m\n\u001b[0;32m--> 427\u001b[0;31m         stdout, stderr = self._run(\n\u001b[0m\u001b[1;32m    428\u001b[0m             \u001b[0mrun_args\u001b[0m\u001b[0;34m,\u001b[0m\u001b[0;34m\u001b[0m\u001b[0;34m\u001b[0m\u001b[0m\n\u001b[1;32m    429\u001b[0m             \u001b[0mprotocol\u001b[0m\u001b[0;34m=\u001b[0m\u001b[0mStdOutErrCapture\u001b[0m\u001b[0;34m,\u001b[0m\u001b[0;34m\u001b[0m\u001b[0;34m\u001b[0m\u001b[0m\n",
      "\u001b[0;32m~/opt/anaconda3/lib/python3.8/site-packages/datalad/config.py\u001b[0m in \u001b[0;36m_run\u001b[0;34m(self, args, where, reload, **kwargs)\u001b[0m\n\u001b[1;32m    787\u001b[0m         \u001b[0;32mif\u001b[0m \u001b[0;34m'-l'\u001b[0m \u001b[0;32min\u001b[0m \u001b[0margs\u001b[0m\u001b[0;34m:\u001b[0m\u001b[0;34m\u001b[0m\u001b[0;34m\u001b[0m\u001b[0m\n\u001b[1;32m    788\u001b[0m             \u001b[0;31m# we are just reading, no need to reload, no need to lock\u001b[0m\u001b[0;34m\u001b[0m\u001b[0;34m\u001b[0m\u001b[0;34m\u001b[0m\u001b[0m\n\u001b[0;32m--> 789\u001b[0;31m             \u001b[0mout\u001b[0m \u001b[0;34m=\u001b[0m \u001b[0mself\u001b[0m\u001b[0;34m.\u001b[0m\u001b[0m_runner\u001b[0m\u001b[0;34m.\u001b[0m\u001b[0mrun\u001b[0m\u001b[0;34m(\u001b[0m\u001b[0mself\u001b[0m\u001b[0;34m.\u001b[0m\u001b[0m_config_cmd\u001b[0m \u001b[0;34m+\u001b[0m \u001b[0margs\u001b[0m\u001b[0;34m,\u001b[0m \u001b[0;34m**\u001b[0m\u001b[0mkwargs\u001b[0m\u001b[0;34m)\u001b[0m\u001b[0;34m\u001b[0m\u001b[0;34m\u001b[0m\u001b[0m\n\u001b[0m\u001b[1;32m    790\u001b[0m             \u001b[0;32mreturn\u001b[0m \u001b[0mout\u001b[0m\u001b[0;34m[\u001b[0m\u001b[0;34m'stdout'\u001b[0m\u001b[0;34m]\u001b[0m\u001b[0;34m,\u001b[0m \u001b[0mout\u001b[0m\u001b[0;34m[\u001b[0m\u001b[0;34m'stderr'\u001b[0m\u001b[0;34m]\u001b[0m\u001b[0;34m\u001b[0m\u001b[0;34m\u001b[0m\u001b[0m\n\u001b[1;32m    791\u001b[0m \u001b[0;34m\u001b[0m\u001b[0m\n",
      "\u001b[0;32m~/opt/anaconda3/lib/python3.8/site-packages/datalad/cmd.py\u001b[0m in \u001b[0;36mrun\u001b[0;34m(self, cmd, protocol, stdin, cwd, env, **kwargs)\u001b[0m\n\u001b[1;32m    377\u001b[0m             \u001b[0mlgr\u001b[0m\u001b[0;34m.\u001b[0m\u001b[0mdebug\u001b[0m\u001b[0;34m(\u001b[0m\u001b[0;34m'Async run:\\n cwd=%s\\n cmd=%s'\u001b[0m\u001b[0;34m,\u001b[0m \u001b[0mcwd\u001b[0m\u001b[0;34m,\u001b[0m \u001b[0mcmd\u001b[0m\u001b[0;34m)\u001b[0m\u001b[0;34m\u001b[0m\u001b[0;34m\u001b[0m\u001b[0m\n\u001b[1;32m    378\u001b[0m             \u001b[0;31m# include the subprocess manager in the asyncio event loop\u001b[0m\u001b[0;34m\u001b[0m\u001b[0;34m\u001b[0m\u001b[0;34m\u001b[0m\u001b[0m\n\u001b[0;32m--> 379\u001b[0;31m             results = event_loop.run_until_complete(\n\u001b[0m\u001b[1;32m    380\u001b[0m                 run_async_cmd(\n\u001b[1;32m    381\u001b[0m                     \u001b[0mevent_loop\u001b[0m\u001b[0;34m,\u001b[0m\u001b[0;34m\u001b[0m\u001b[0;34m\u001b[0m\u001b[0m\n",
      "\u001b[0;32m~/opt/anaconda3/lib/python3.8/asyncio/base_events.py\u001b[0m in \u001b[0;36mrun_until_complete\u001b[0;34m(self, future)\u001b[0m\n\u001b[1;32m    590\u001b[0m         \"\"\"\n\u001b[1;32m    591\u001b[0m         \u001b[0mself\u001b[0m\u001b[0;34m.\u001b[0m\u001b[0m_check_closed\u001b[0m\u001b[0;34m(\u001b[0m\u001b[0;34m)\u001b[0m\u001b[0;34m\u001b[0m\u001b[0;34m\u001b[0m\u001b[0m\n\u001b[0;32m--> 592\u001b[0;31m         \u001b[0mself\u001b[0m\u001b[0;34m.\u001b[0m\u001b[0m_check_running\u001b[0m\u001b[0;34m(\u001b[0m\u001b[0;34m)\u001b[0m\u001b[0;34m\u001b[0m\u001b[0;34m\u001b[0m\u001b[0m\n\u001b[0m\u001b[1;32m    593\u001b[0m \u001b[0;34m\u001b[0m\u001b[0m\n\u001b[1;32m    594\u001b[0m         \u001b[0mnew_task\u001b[0m \u001b[0;34m=\u001b[0m \u001b[0;32mnot\u001b[0m \u001b[0mfutures\u001b[0m\u001b[0;34m.\u001b[0m\u001b[0misfuture\u001b[0m\u001b[0;34m(\u001b[0m\u001b[0mfuture\u001b[0m\u001b[0;34m)\u001b[0m\u001b[0;34m\u001b[0m\u001b[0;34m\u001b[0m\u001b[0m\n",
      "\u001b[0;32m~/opt/anaconda3/lib/python3.8/asyncio/base_events.py\u001b[0m in \u001b[0;36m_check_running\u001b[0;34m(self)\u001b[0m\n\u001b[1;32m    550\u001b[0m     \u001b[0;32mdef\u001b[0m \u001b[0m_check_running\u001b[0m\u001b[0;34m(\u001b[0m\u001b[0mself\u001b[0m\u001b[0;34m)\u001b[0m\u001b[0;34m:\u001b[0m\u001b[0;34m\u001b[0m\u001b[0;34m\u001b[0m\u001b[0m\n\u001b[1;32m    551\u001b[0m         \u001b[0;32mif\u001b[0m \u001b[0mself\u001b[0m\u001b[0;34m.\u001b[0m\u001b[0mis_running\u001b[0m\u001b[0;34m(\u001b[0m\u001b[0;34m)\u001b[0m\u001b[0;34m:\u001b[0m\u001b[0;34m\u001b[0m\u001b[0;34m\u001b[0m\u001b[0m\n\u001b[0;32m--> 552\u001b[0;31m             \u001b[0;32mraise\u001b[0m \u001b[0mRuntimeError\u001b[0m\u001b[0;34m(\u001b[0m\u001b[0;34m'This event loop is already running'\u001b[0m\u001b[0;34m)\u001b[0m\u001b[0;34m\u001b[0m\u001b[0;34m\u001b[0m\u001b[0m\n\u001b[0m\u001b[1;32m    553\u001b[0m         \u001b[0;32mif\u001b[0m \u001b[0mevents\u001b[0m\u001b[0;34m.\u001b[0m\u001b[0m_get_running_loop\u001b[0m\u001b[0;34m(\u001b[0m\u001b[0;34m)\u001b[0m \u001b[0;32mis\u001b[0m \u001b[0;32mnot\u001b[0m \u001b[0;32mNone\u001b[0m\u001b[0;34m:\u001b[0m\u001b[0;34m\u001b[0m\u001b[0;34m\u001b[0m\u001b[0m\n\u001b[1;32m    554\u001b[0m             raise RuntimeError(\n",
      "\u001b[0;31mRuntimeError\u001b[0m: This event loop is already running"
     ]
    }
   ],
   "source": [
    "import os\n",
    "import glob\n",
    "import datalad.api as dl\n",
    "import pandas as pd\n",
    "\n",
    "download_path = '/Users/lukechang/Downloads/FridayNightLights'\n",
    "\n",
    "dl.clone(source='https://github.com/OpenNeuroDatasets/ds003521.git', path=localizer_path)\n"
   ]
  },
  {
   "cell_type": "markdown",
   "metadata": {},
   "source": [
    "We can now create a dataset instance using `dl.Dataset(path_to_data)`."
   ]
  },
  {
   "cell_type": "code",
   "execution_count": 6,
   "metadata": {
    "ExecuteTime": {
     "end_time": "2020-09-14T16:55:46.157292Z",
     "start_time": "2020-09-14T16:55:46.154432Z"
    }
   },
   "outputs": [],
   "source": [
    "ds = dl.Dataset(download_path)"
   ]
  },
  {
   "cell_type": "markdown",
   "metadata": {},
   "source": [
    "How much of the dataset have we downloaded?  We can check the status of the annex using `ds.status(annex='all')`."
   ]
  },
  {
   "cell_type": "code",
   "execution_count": 12,
   "metadata": {
    "ExecuteTime": {
     "end_time": "2020-09-14T03:07:20.305327Z",
     "start_time": "2020-09-14T03:05:05.345954Z"
    }
   },
   "outputs": [
    {
     "name": "stdout",
     "output_type": "stream",
     "text": [
      "1794 annex'd files (0.0 B/42.1 GB present/total size)\n",
      "1794 annex'd files (0.0 B/42.1 GB present/total size)\n"
     ]
    }
   ],
   "source": [
    "results = ds.status(annex='all')"
   ]
  },
  {
   "cell_type": "markdown",
   "metadata": {},
   "source": [
    "Looks like it's empty, which makes sense since we only cloned the dataset. \n",
    "\n",
    "Now we need to get some data. Let's start with something small to play with first.\n",
    "\n",
    "Let's use `glob` to find all of the tab-delimited confound data generated by fmriprep. "
   ]
  },
  {
   "cell_type": "code",
   "execution_count": 14,
   "metadata": {
    "ExecuteTime": {
     "end_time": "2020-09-14T03:23:26.398665Z",
     "start_time": "2020-09-14T03:23:26.357067Z"
    },
    "scrolled": false
   },
   "outputs": [
    {
     "data": {
      "text/plain": [
       "['/Users/lukechang/Dropbox/Dartbrains/data/Localizer/derivatives/fmriprep/sub-S01/func/sub-S01_task-localizer_desc-confounds_regressors.tsv',\n",
       " '/Users/lukechang/Dropbox/Dartbrains/data/Localizer/derivatives/fmriprep/sub-S02/func/sub-S02_task-localizer_desc-confounds_regressors.tsv',\n",
       " '/Users/lukechang/Dropbox/Dartbrains/data/Localizer/derivatives/fmriprep/sub-S03/func/sub-S03_task-localizer_desc-confounds_regressors.tsv',\n",
       " '/Users/lukechang/Dropbox/Dartbrains/data/Localizer/derivatives/fmriprep/sub-S04/func/sub-S04_task-localizer_desc-confounds_regressors.tsv',\n",
       " '/Users/lukechang/Dropbox/Dartbrains/data/Localizer/derivatives/fmriprep/sub-S05/func/sub-S05_task-localizer_desc-confounds_regressors.tsv',\n",
       " '/Users/lukechang/Dropbox/Dartbrains/data/Localizer/derivatives/fmriprep/sub-S06/func/sub-S06_task-localizer_desc-confounds_regressors.tsv',\n",
       " '/Users/lukechang/Dropbox/Dartbrains/data/Localizer/derivatives/fmriprep/sub-S07/func/sub-S07_task-localizer_desc-confounds_regressors.tsv',\n",
       " '/Users/lukechang/Dropbox/Dartbrains/data/Localizer/derivatives/fmriprep/sub-S08/func/sub-S08_task-localizer_desc-confounds_regressors.tsv',\n",
       " '/Users/lukechang/Dropbox/Dartbrains/data/Localizer/derivatives/fmriprep/sub-S09/func/sub-S09_task-localizer_desc-confounds_regressors.tsv',\n",
       " '/Users/lukechang/Dropbox/Dartbrains/data/Localizer/derivatives/fmriprep/sub-S10/func/sub-S10_task-localizer_desc-confounds_regressors.tsv']"
      ]
     },
     "execution_count": 14,
     "metadata": {},
     "output_type": "execute_result"
    }
   ],
   "source": [
    "file_list = glob.glob(os.path.join(download_path, 'derivatives', 'fmriprep', '*', 'func', '*tsv'))\n",
    "file_list.sort()\n",
    "file_list[:10]"
   ]
  },
  {
   "cell_type": "markdown",
   "metadata": {},
   "source": [
    "glob can search the filetree and see all of the relevant data even though none of it has been downloaded yet.\n",
    "\n",
    "Let's now download the first subjects confound regressor file and load it using pandas."
   ]
  },
  {
   "cell_type": "code",
   "execution_count": 15,
   "metadata": {
    "ExecuteTime": {
     "end_time": "2020-09-14T03:23:38.383340Z",
     "start_time": "2020-09-14T03:23:38.148676Z"
    }
   },
   "outputs": [
    {
     "data": {
      "text/html": [
       "<div>\n",
       "<style scoped>\n",
       "    .dataframe tbody tr th:only-of-type {\n",
       "        vertical-align: middle;\n",
       "    }\n",
       "\n",
       "    .dataframe tbody tr th {\n",
       "        vertical-align: top;\n",
       "    }\n",
       "\n",
       "    .dataframe thead th {\n",
       "        text-align: right;\n",
       "    }\n",
       "</style>\n",
       "<table border=\"1\" class=\"dataframe\">\n",
       "  <thead>\n",
       "    <tr style=\"text-align: right;\">\n",
       "      <th></th>\n",
       "      <th>csf</th>\n",
       "      <th>csf_derivative1</th>\n",
       "      <th>csf_derivative1_power2</th>\n",
       "      <th>csf_power2</th>\n",
       "      <th>white_matter</th>\n",
       "      <th>white_matter_derivative1</th>\n",
       "      <th>white_matter_power2</th>\n",
       "      <th>white_matter_derivative1_power2</th>\n",
       "      <th>global_signal</th>\n",
       "      <th>global_signal_derivative1</th>\n",
       "      <th>...</th>\n",
       "      <th>rot_x_derivative1_power2</th>\n",
       "      <th>rot_x_power2</th>\n",
       "      <th>rot_y</th>\n",
       "      <th>rot_y_derivative1</th>\n",
       "      <th>rot_y_derivative1_power2</th>\n",
       "      <th>rot_y_power2</th>\n",
       "      <th>rot_z</th>\n",
       "      <th>rot_z_derivative1</th>\n",
       "      <th>rot_z_derivative1_power2</th>\n",
       "      <th>rot_z_power2</th>\n",
       "    </tr>\n",
       "  </thead>\n",
       "  <tbody>\n",
       "    <tr>\n",
       "      <th>0</th>\n",
       "      <td>5164.630182</td>\n",
       "      <td>NaN</td>\n",
       "      <td>NaN</td>\n",
       "      <td>2.667340e+07</td>\n",
       "      <td>4006.007667</td>\n",
       "      <td>NaN</td>\n",
       "      <td>1.604810e+07</td>\n",
       "      <td>NaN</td>\n",
       "      <td>3753.537871</td>\n",
       "      <td>NaN</td>\n",
       "      <td>...</td>\n",
       "      <td>NaN</td>\n",
       "      <td>4.016403e-07</td>\n",
       "      <td>0.000344</td>\n",
       "      <td>NaN</td>\n",
       "      <td>NaN</td>\n",
       "      <td>1.180596e-07</td>\n",
       "      <td>-0.000701</td>\n",
       "      <td>NaN</td>\n",
       "      <td>NaN</td>\n",
       "      <td>4.914346e-07</td>\n",
       "    </tr>\n",
       "    <tr>\n",
       "      <th>1</th>\n",
       "      <td>5178.481411</td>\n",
       "      <td>13.851229</td>\n",
       "      <td>191.856548</td>\n",
       "      <td>2.681667e+07</td>\n",
       "      <td>4011.819383</td>\n",
       "      <td>5.811716</td>\n",
       "      <td>1.609469e+07</td>\n",
       "      <td>33.776043</td>\n",
       "      <td>3760.408417</td>\n",
       "      <td>6.870546</td>\n",
       "      <td>...</td>\n",
       "      <td>8.622980e-09</td>\n",
       "      <td>2.925631e-07</td>\n",
       "      <td>0.000569</td>\n",
       "      <td>0.000225</td>\n",
       "      <td>5.063355e-08</td>\n",
       "      <td>3.233253e-07</td>\n",
       "      <td>-0.000776</td>\n",
       "      <td>-0.000075</td>\n",
       "      <td>5.666476e-09</td>\n",
       "      <td>6.026417e-07</td>\n",
       "    </tr>\n",
       "    <tr>\n",
       "      <th>2</th>\n",
       "      <td>5161.040643</td>\n",
       "      <td>-17.440768</td>\n",
       "      <td>304.180395</td>\n",
       "      <td>2.663634e+07</td>\n",
       "      <td>4006.766409</td>\n",
       "      <td>-5.052974</td>\n",
       "      <td>1.605418e+07</td>\n",
       "      <td>25.532548</td>\n",
       "      <td>3756.426086</td>\n",
       "      <td>-3.982332</td>\n",
       "      <td>...</td>\n",
       "      <td>6.975673e-08</td>\n",
       "      <td>6.480347e-07</td>\n",
       "      <td>0.000655</td>\n",
       "      <td>0.000086</td>\n",
       "      <td>7.409422e-09</td>\n",
       "      <td>4.286255e-07</td>\n",
       "      <td>-0.000524</td>\n",
       "      <td>0.000253</td>\n",
       "      <td>6.390582e-08</td>\n",
       "      <td>2.740564e-07</td>\n",
       "    </tr>\n",
       "    <tr>\n",
       "      <th>3</th>\n",
       "      <td>5150.604178</td>\n",
       "      <td>-10.436465</td>\n",
       "      <td>108.919794</td>\n",
       "      <td>2.652872e+07</td>\n",
       "      <td>4008.586021</td>\n",
       "      <td>1.819612</td>\n",
       "      <td>1.606876e+07</td>\n",
       "      <td>3.310987</td>\n",
       "      <td>3751.566090</td>\n",
       "      <td>-4.859996</td>\n",
       "      <td>...</td>\n",
       "      <td>1.673784e-07</td>\n",
       "      <td>1.567265e-07</td>\n",
       "      <td>0.000554</td>\n",
       "      <td>-0.000101</td>\n",
       "      <td>1.011674e-08</td>\n",
       "      <td>3.070412e-07</td>\n",
       "      <td>-0.000605</td>\n",
       "      <td>-0.000082</td>\n",
       "      <td>6.722360e-09</td>\n",
       "      <td>3.666230e-07</td>\n",
       "    </tr>\n",
       "    <tr>\n",
       "      <th>4</th>\n",
       "      <td>5172.441161</td>\n",
       "      <td>21.836983</td>\n",
       "      <td>476.853810</td>\n",
       "      <td>2.675415e+07</td>\n",
       "      <td>4007.189291</td>\n",
       "      <td>-1.396730</td>\n",
       "      <td>1.605757e+07</td>\n",
       "      <td>1.950854</td>\n",
       "      <td>3746.298200</td>\n",
       "      <td>-5.267890</td>\n",
       "      <td>...</td>\n",
       "      <td>2.102616e-08</td>\n",
       "      <td>2.925631e-07</td>\n",
       "      <td>0.000997</td>\n",
       "      <td>0.000443</td>\n",
       "      <td>1.959195e-07</td>\n",
       "      <td>9.934926e-07</td>\n",
       "      <td>-0.000840</td>\n",
       "      <td>-0.000235</td>\n",
       "      <td>5.510428e-08</td>\n",
       "      <td>7.059982e-07</td>\n",
       "    </tr>\n",
       "  </tbody>\n",
       "</table>\n",
       "<p>5 rows × 136 columns</p>\n",
       "</div>"
      ],
      "text/plain": [
       "           csf  csf_derivative1  csf_derivative1_power2    csf_power2  \\\n",
       "0  5164.630182              NaN                     NaN  2.667340e+07   \n",
       "1  5178.481411        13.851229              191.856548  2.681667e+07   \n",
       "2  5161.040643       -17.440768              304.180395  2.663634e+07   \n",
       "3  5150.604178       -10.436465              108.919794  2.652872e+07   \n",
       "4  5172.441161        21.836983              476.853810  2.675415e+07   \n",
       "\n",
       "   white_matter  white_matter_derivative1  white_matter_power2  \\\n",
       "0   4006.007667                       NaN         1.604810e+07   \n",
       "1   4011.819383                  5.811716         1.609469e+07   \n",
       "2   4006.766409                 -5.052974         1.605418e+07   \n",
       "3   4008.586021                  1.819612         1.606876e+07   \n",
       "4   4007.189291                 -1.396730         1.605757e+07   \n",
       "\n",
       "   white_matter_derivative1_power2  global_signal  global_signal_derivative1  \\\n",
       "0                              NaN    3753.537871                        NaN   \n",
       "1                        33.776043    3760.408417                   6.870546   \n",
       "2                        25.532548    3756.426086                  -3.982332   \n",
       "3                         3.310987    3751.566090                  -4.859996   \n",
       "4                         1.950854    3746.298200                  -5.267890   \n",
       "\n",
       "   ...  rot_x_derivative1_power2  rot_x_power2     rot_y  rot_y_derivative1  \\\n",
       "0  ...                       NaN  4.016403e-07  0.000344                NaN   \n",
       "1  ...              8.622980e-09  2.925631e-07  0.000569           0.000225   \n",
       "2  ...              6.975673e-08  6.480347e-07  0.000655           0.000086   \n",
       "3  ...              1.673784e-07  1.567265e-07  0.000554          -0.000101   \n",
       "4  ...              2.102616e-08  2.925631e-07  0.000997           0.000443   \n",
       "\n",
       "   rot_y_derivative1_power2  rot_y_power2     rot_z  rot_z_derivative1  \\\n",
       "0                       NaN  1.180596e-07 -0.000701                NaN   \n",
       "1              5.063355e-08  3.233253e-07 -0.000776          -0.000075   \n",
       "2              7.409422e-09  4.286255e-07 -0.000524           0.000253   \n",
       "3              1.011674e-08  3.070412e-07 -0.000605          -0.000082   \n",
       "4              1.959195e-07  9.934926e-07 -0.000840          -0.000235   \n",
       "\n",
       "   rot_z_derivative1_power2  rot_z_power2  \n",
       "0                       NaN  4.914346e-07  \n",
       "1              5.666476e-09  6.026417e-07  \n",
       "2              6.390582e-08  2.740564e-07  \n",
       "3              6.722360e-09  3.666230e-07  \n",
       "4              5.510428e-08  7.059982e-07  \n",
       "\n",
       "[5 rows x 136 columns]"
      ]
     },
     "execution_count": 15,
     "metadata": {},
     "output_type": "execute_result"
    }
   ],
   "source": [
    "result = ds.get(file_list[0])\n",
    "\n",
    "confounds = pd.read_csv(file_list[0], sep='\\t')\n",
    "confounds.head()"
   ]
  },
  {
   "cell_type": "markdown",
   "metadata": {},
   "source": [
    "What if we wanted to drop that file? Just like the CLI, we can use `ds.drop(file_name)`."
   ]
  },
  {
   "cell_type": "code",
   "execution_count": 16,
   "metadata": {
    "ExecuteTime": {
     "end_time": "2020-09-14T03:25:53.545726Z",
     "start_time": "2020-09-14T03:23:43.345414Z"
    }
   },
   "outputs": [],
   "source": [
    "result = ds.drop(file_list[0])"
   ]
  },
  {
   "cell_type": "markdown",
   "metadata": {},
   "source": [
    "To confirm that it is actually removed, let's try to load it again with pandas."
   ]
  },
  {
   "cell_type": "code",
   "execution_count": 17,
   "metadata": {
    "ExecuteTime": {
     "end_time": "2020-09-14T03:25:53.567891Z",
     "start_time": "2020-09-14T03:25:53.549336Z"
    }
   },
   "outputs": [],
   "source": [
    "confounds = pd.read_csv(file_list[0], sep='\\t')\n"
   ]
  },
  {
   "cell_type": "markdown",
   "metadata": {},
   "source": [
    "Looks like it was successfully removed.\n",
    "\n",
    "We can also load the entire dataset in one command if want using `ds.get(dataset='.', recursive=True)`. We are not going to do it right now as this will take awhile and require lots of free hard disk space.\n",
    "\n",
    "Let's actually download one of the files we will be using in the tutorial. First, let's use glob to get a list of all of the functional data that has been preprocessed by fmriprep, denoised, and smoothed."
   ]
  },
  {
   "cell_type": "code",
   "execution_count": 12,
   "metadata": {
    "ExecuteTime": {
     "end_time": "2020-09-14T03:28:00.685703Z",
     "start_time": "2020-09-14T03:28:00.666197Z"
    }
   },
   "outputs": [
    {
     "ename": "NameError",
     "evalue": "name 'localizer_path' is not defined",
     "output_type": "error",
     "traceback": [
      "\u001b[0;31m---------------------------------------------------------------------------\u001b[0m",
      "\u001b[0;31mNameError\u001b[0m                                 Traceback (most recent call last)",
      "\u001b[0;32m/var/folders/lt/52_7v4r10qg8m6_2fjzqh1z80000gn/T/ipykernel_78597/4010213263.py\u001b[0m in \u001b[0;36m<module>\u001b[0;34m\u001b[0m\n\u001b[0;32m----> 1\u001b[0;31m \u001b[0mfile_list\u001b[0m \u001b[0;34m=\u001b[0m \u001b[0mglob\u001b[0m\u001b[0;34m.\u001b[0m\u001b[0mglob\u001b[0m\u001b[0;34m(\u001b[0m\u001b[0mos\u001b[0m\u001b[0;34m.\u001b[0m\u001b[0mpath\u001b[0m\u001b[0;34m.\u001b[0m\u001b[0mjoin\u001b[0m\u001b[0;34m(\u001b[0m\u001b[0mlocalizer_path\u001b[0m\u001b[0;34m,\u001b[0m \u001b[0;34m'derivatives'\u001b[0m\u001b[0;34m,\u001b[0m \u001b[0;34m'smoothed'\u001b[0m\u001b[0;34m,\u001b[0m \u001b[0;34m'*_task-movie_run-1_space-MNI152NLin2009cAsym_desc-preproc_trim_smooth6_denoised_bold.hdf5'\u001b[0m\u001b[0;34m)\u001b[0m\u001b[0;34m)\u001b[0m\u001b[0;34m\u001b[0m\u001b[0;34m\u001b[0m\u001b[0m\n\u001b[0m\u001b[1;32m      2\u001b[0m \u001b[0mfile_list\u001b[0m\u001b[0;34m.\u001b[0m\u001b[0msort\u001b[0m\u001b[0;34m(\u001b[0m\u001b[0;34m)\u001b[0m\u001b[0;34m\u001b[0m\u001b[0;34m\u001b[0m\u001b[0m\n\u001b[1;32m      3\u001b[0m \u001b[0mfile_list\u001b[0m\u001b[0;34m\u001b[0m\u001b[0;34m\u001b[0m\u001b[0m\n",
      "\u001b[0;31mNameError\u001b[0m: name 'localizer_path' is not defined"
     ]
    }
   ],
   "source": [
    "file_list = glob.glob(os.path.join(download_path, 'derivatives', 'smoothed', '*_task-movie_run-1_space-MNI152NLin2009cAsym_desc-preproc_trim_smooth6_denoised_bold.hdf5'))\n",
    "file_list.sort()\n",
    "file_list"
   ]
  },
  {
   "cell_type": "markdown",
   "metadata": {},
   "source": [
    "Now let's download the first subject's file using `ds.get()`. This file is 825mb, so this might take a few minutes depending on your internet speed."
   ]
  },
  {
   "cell_type": "code",
   "execution_count": 19,
   "metadata": {
    "ExecuteTime": {
     "end_time": "2020-09-14T03:34:45.629667Z",
     "start_time": "2020-09-14T03:28:12.624461Z"
    }
   },
   "outputs": [
    {
     "data": {
      "application/vnd.jupyter.widget-view+json": {
       "model_id": "",
       "version_major": 2,
       "version_minor": 0
      },
      "text/plain": [
       "HBox(children=(FloatProgress(value=0.0, description='derivatives .. bold.nii.gz', max=112128274.0, style=Progr…"
      ]
     },
     "metadata": {},
     "output_type": "display_data"
    }
   ],
   "source": [
    "result = ds.get(file_list[0])"
   ]
  },
  {
   "cell_type": "markdown",
   "metadata": {},
   "source": [
    "How much of the dataset have we downloaded?  We can check the status of the annex using `ds.status(annex='all')`."
   ]
  },
  {
   "cell_type": "code",
   "execution_count": 21,
   "metadata": {
    "ExecuteTime": {
     "end_time": "2020-09-14T03:39:15.545713Z",
     "start_time": "2020-09-14T03:37:00.130305Z"
    }
   },
   "outputs": [
    {
     "name": "stdout",
     "output_type": "stream",
     "text": [
      "1794 annex'd files (106.9 MB/42.1 GB present/total size)\n",
      "1794 annex'd files (106.9 MB/42.1 GB present/total size)\n"
     ]
    }
   ],
   "source": [
    "result = ds.status(annex='all')"
   ]
  }
 ],
 "metadata": {
  "interpreter": {
   "hash": "07cfb842b9455a73d55ec9d38bab5362c3fe321b0e1c3eca7f51b6b16c31b8ca"
  },
  "kernelspec": {
   "display_name": "Python 3.7.7 64-bit ('base': conda)",
   "language": "python",
   "name": "python3"
  },
  "language_info": {
   "codemirror_mode": {
    "name": "ipython",
    "version": 3
   },
   "file_extension": ".py",
   "mimetype": "text/x-python",
   "name": "python",
   "nbconvert_exporter": "python",
   "pygments_lexer": "ipython3",
   "version": "3.8.12"
  },
  "toc": {
   "base_numbering": 1,
   "nav_menu": {},
   "number_sections": true,
   "sideBar": true,
   "skip_h1_title": false,
   "title_cell": "Table of Contents",
   "title_sidebar": "Contents",
   "toc_cell": false,
   "toc_position": {},
   "toc_section_display": true,
   "toc_window_display": true
  }
 },
 "nbformat": 4,
 "nbformat_minor": 4
}
